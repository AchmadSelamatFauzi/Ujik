{
  "nbformat": 4,
  "nbformat_minor": 0,
  "metadata": {
    "colab": {
      "name": "Untitled2.ipynb",
      "provenance": [],
      "collapsed_sections": [],
      "authorship_tag": "ABX9TyNghclrlrMpSvcOJ56IVfN6",
      "include_colab_link": true
    },
    "kernelspec": {
      "name": "python3",
      "display_name": "Python 3"
    },
    "language_info": {
      "name": "python"
    }
  },
  "cells": [
    {
      "cell_type": "markdown",
      "metadata": {
        "id": "view-in-github",
        "colab_type": "text"
      },
      "source": [
        "<a href=\"https://colab.research.google.com/github/AchmadSelamatFauzi/Ujik/blob/main/prakt6.ipynb\" target=\"_parent\"><img src=\"https://colab.research.google.com/assets/colab-badge.svg\" alt=\"Open In Colab\"/></a>"
      ]
    },
    {
      "cell_type": "code",
      "metadata": {
        "colab": {
          "base_uri": "https://localhost:8080/"
        },
        "id": "DWn-piVtWMbp",
        "outputId": "26ab9d7e-d502-43b0-f474-a7a055d94beb"
      },
      "source": [
        "print (\"ProgramPython Menghitung Perpangkatan\")\n",
        "bilangan = int(input('Masukkan bilangan: '))\n",
        "pangkat = int(input('Masukkan pangkat: '))\n",
        "\n",
        "hasil = bilangan ** pangkat\n",
        "print(f'Hasil = {hasil}')"
      ],
      "execution_count": 7,
      "outputs": [
        {
          "output_type": "stream",
          "name": "stdout",
          "text": [
            "ProgramPython Menghitung Perpangkatan\n",
            "Masukkan bilangan: 10\n",
            "Masukkan pangkat: 3\n",
            "Hasil = 1000\n"
          ]
        }
      ]
    }
  ]
}