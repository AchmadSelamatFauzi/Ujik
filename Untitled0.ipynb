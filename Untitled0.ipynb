{
  "nbformat": 4,
  "nbformat_minor": 0,
  "metadata": {
    "colab": {
      "name": "Untitled0.ipynb",
      "provenance": [],
      "authorship_tag": "ABX9TyN/+oYLng/g7gIxqpSdcF93",
      "include_colab_link": true
    },
    "kernelspec": {
      "name": "python3",
      "display_name": "Python 3"
    },
    "language_info": {
      "name": "python"
    }
  },
  "cells": [
    {
      "cell_type": "markdown",
      "metadata": {
        "id": "view-in-github",
        "colab_type": "text"
      },
      "source": [
        "<a href=\"https://colab.research.google.com/github/AchmadSelamatFauzi/Ujik/blob/main/Untitled0.ipynb\" target=\"_parent\"><img src=\"https://colab.research.google.com/assets/colab-badge.svg\" alt=\"Open In Colab\"/></a>"
      ]
    },
    {
      "cell_type": "code",
      "metadata": {
        "id": "zg-NYI3VepRE"
      },
      "source": [
        ""
      ],
      "execution_count": null,
      "outputs": []
    },
    {
      "cell_type": "code",
      "metadata": {
        "colab": {
          "base_uri": "https://localhost:8080/"
        },
        "id": "ce5PvoFoenHe",
        "outputId": "5270ccbb-4405-4540-fde4-abf32f3a53de"
      },
      "source": [
        "print (\"PROGRAM PYTHON MENGHITUNG NILAI TERKECIL & TERBESAR SERTA NILAI RATA-RATA\")\n",
        "n = int(input(\"\\nMasukan Jumlah Bilangan = \"))\n",
        "bil = []\n",
        "tot = 0\n",
        "for x in range(n):\n",
        "    m=x+1\n",
        "    a = int(input(\"Bilangan ke %d = \"%m))\n",
        "    bil.append(a)\n",
        "    tot += bil[x]\n",
        "    rata2 = tot / n\n",
        "\n",
        "print(\"\\nBilangan Terkecil : %d\" %min(bil))\n",
        "print(\"Bilangan Terbesar : %d\" %max(bil))\n",
        "print(\"Nilai Rata-rata   : %0.2f\" %rata2)"
      ],
      "execution_count": 3,
      "outputs": [
        {
          "output_type": "stream",
          "name": "stdout",
          "text": [
            "PROGRAM PYTHON MENGHITUNG NILAI TERKECIL & TERBESAR SERTA NILAI RATA-RATA\n",
            "\n",
            "Masukan Jumlah Bilangan = 5\n",
            "Bilangan ke 1 = 18\n",
            "Bilangan ke 2 = 97\n",
            "Bilangan ke 3 = 69\n",
            "Bilangan ke 4 = 81\n",
            "Bilangan ke 5 = 71\n",
            "\n",
            "Bilangan Terkecil : 18\n",
            "Bilangan Terbesar : 97\n",
            "Nilai Rata-rata   : 67.20\n"
          ]
        }
      ]
    }
  ]
}