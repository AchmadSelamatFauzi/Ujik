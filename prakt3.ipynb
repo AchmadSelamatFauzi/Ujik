{
  "nbformat": 4,
  "nbformat_minor": 0,
  "metadata": {
    "colab": {
      "name": "Untitled1.ipynb",
      "provenance": [],
      "authorship_tag": "ABX9TyN3q/TzshjbAKKXhLowG8N6",
      "include_colab_link": true
    },
    "kernelspec": {
      "name": "python3",
      "display_name": "Python 3"
    },
    "language_info": {
      "name": "python"
    }
  },
  "cells": [
    {
      "cell_type": "markdown",
      "metadata": {
        "id": "view-in-github",
        "colab_type": "text"
      },
      "source": [
        "<a href=\"https://colab.research.google.com/github/AchmadSelamatFauzi/Ujik/blob/main/prakt3.ipynb\" target=\"_parent\"><img src=\"https://colab.research.google.com/assets/colab-badge.svg\" alt=\"Open In Colab\"/></a>"
      ]
    },
    {
      "cell_type": "code",
      "metadata": {
        "colab": {
          "base_uri": "https://localhost:8080/"
        },
        "id": "uQjuhSoHr7-E",
        "outputId": "9e461177-f914-4681-fa18-971cf1d6298a"
      },
      "source": [
        "print (\"Program Python Menentukan Bilangan Ganjil Genap\")\n",
        "\n",
        "bil = int(input(\"Masukan Bilangan :\"))\n",
        "\n",
        "if bil % 2 == 0:\n",
        "    print(\"%d Merupakan Bilangan Genap\" % bil)\n",
        "else:\n",
        "    print(\"%d Merupakan Bilangan Ganjil\" % bil)"
      ],
      "execution_count": 11,
      "outputs": [
        {
          "output_type": "stream",
          "name": "stdout",
          "text": [
            "Program Python Menentukan Bilangan Ganjil Genap\n",
            "Masukan Bilangan :96\n",
            "96 Merupakan Bilangan Genap\n"
          ]
        }
      ]
    }
  ]
}