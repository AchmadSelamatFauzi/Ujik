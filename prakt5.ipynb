{
  "nbformat": 4,
  "nbformat_minor": 0,
  "metadata": {
    "colab": {
      "name": "Untitled1.ipynb",
      "provenance": [],
      "authorship_tag": "ABX9TyMCb/zgfJ4OnFSKC9O6zTn9",
      "include_colab_link": true
    },
    "kernelspec": {
      "name": "python3",
      "display_name": "Python 3"
    },
    "language_info": {
      "name": "python"
    }
  },
  "cells": [
    {
      "cell_type": "markdown",
      "metadata": {
        "id": "view-in-github",
        "colab_type": "text"
      },
      "source": [
        "<a href=\"https://colab.research.google.com/github/AchmadSelamatFauzi/Ujik/blob/main/prakt5.ipynb\" target=\"_parent\"><img src=\"https://colab.research.google.com/assets/colab-badge.svg\" alt=\"Open In Colab\"/></a>"
      ]
    },
    {
      "cell_type": "code",
      "metadata": {
        "colab": {
          "base_uri": "https://localhost:8080/"
        },
        "id": "uQjuhSoHr7-E",
        "outputId": "383f1885-cab7-42c3-dda6-75ae8888006e"
      },
      "source": [
        "print (\"Program python menghitung jumlah huruf vokal dan banyak karakter\")\n",
        "\n",
        "teks = input('Tuliskan teks: ').lower()\n",
        "dictionary_huruf_vokal = {\n",
        "  'a': 0,\n",
        "  'i': 0,\n",
        "  'u': 0,\n",
        "  'e': 0,\n",
        "  'o': 0\n",
        "}\n",
        "\n",
        "for huruf_vokal in dictionary_huruf_vokal.keys():\n",
        "  dictionary_huruf_vokal[huruf_vokal] = teks.count(huruf_vokal)\n",
        "  total_huruf_vokal = sum(dictionary_huruf_vokal.values())\n",
        "\n",
        "print(f'Total karakter: {len(teks)}')\n",
        "print(f'Total huruf vokal: {total_huruf_vokal}')\n",
        "print(f\"\"\"\\\n",
        "  a -> {dictionary_huruf_vokal['a']}\n",
        "  i -> {dictionary_huruf_vokal['i']}\n",
        "  u -> {dictionary_huruf_vokal['u']}\n",
        "  e -> {dictionary_huruf_vokal['e']}\n",
        "  o -> {dictionary_huruf_vokal['o']}\\\n",
        "\"\"\")"
      ],
      "execution_count": 16,
      "outputs": [
        {
          "output_type": "stream",
          "name": "stdout",
          "text": [
            "Program python menghitung jumlah huruf vokal dan banyak karakter\n",
            "Tuliskan teks: ayo kita pasti bisa\n",
            "Total karakter: 19\n",
            "Total huruf vokal: 8\n",
            "  a -> 4\n",
            "  i -> 3\n",
            "  u -> 0\n",
            "  e -> 0\n",
            "  o -> 1\n"
          ]
        }
      ]
    }
  ]
}