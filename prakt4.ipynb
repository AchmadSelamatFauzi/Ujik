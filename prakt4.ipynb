{
  "nbformat": 4,
  "nbformat_minor": 0,
  "metadata": {
    "colab": {
      "name": "Untitled1.ipynb",
      "provenance": [],
      "authorship_tag": "ABX9TyPv25GH5PQKPpcvKOT1ViVx",
      "include_colab_link": true
    },
    "kernelspec": {
      "name": "python3",
      "display_name": "Python 3"
    },
    "language_info": {
      "name": "python"
    }
  },
  "cells": [
    {
      "cell_type": "markdown",
      "metadata": {
        "id": "view-in-github",
        "colab_type": "text"
      },
      "source": [
        "<a href=\"https://colab.research.google.com/github/AchmadSelamatFauzi/Ujik/blob/main/prakt4.ipynb\" target=\"_parent\"><img src=\"https://colab.research.google.com/assets/colab-badge.svg\" alt=\"Open In Colab\"/></a>"
      ]
    },
    {
      "cell_type": "code",
      "metadata": {
        "colab": {
          "base_uri": "https://localhost:8080/"
        },
        "id": "uQjuhSoHr7-E",
        "outputId": "aac5c3a6-c458-4125-be98-f5cfff005bb1"
      },
      "source": [
        "inputan = input('Masukkan deret bilangan (pisahkan dengan koma): ')\n",
        "data = []\n",
        "\n",
        "# konversi inputan ke dalam list yg berisi integer\n",
        "for bilangan in inputan.split(','):\n",
        "    data.append(int(bilangan))\n",
        "def rata_rata (deret):\n",
        "  return sum(deret) / len(deret)\n",
        "\n",
        "print(f'Data -> {data}')\n",
        "print(f'Mean -> {rata_rata(data)}')"
      ],
      "execution_count": 13,
      "outputs": [
        {
          "output_type": "stream",
          "name": "stdout",
          "text": [
            "Masukkan deret bilangan (pisahkan dengan koma): 1,2,3,4\n",
            "Data -> [1, 2, 3, 4]\n",
            "Mean -> 2.5\n"
          ]
        }
      ]
    }
  ]
}