{
  "nbformat": 4,
  "nbformat_minor": 0,
  "metadata": {
    "colab": {
      "name": "Untitled2.ipynb",
      "provenance": [],
      "collapsed_sections": [],
      "authorship_tag": "ABX9TyP+A7llpIgAOx8AU4WLYhXA",
      "include_colab_link": true
    },
    "kernelspec": {
      "name": "python3",
      "display_name": "Python 3"
    },
    "language_info": {
      "name": "python"
    }
  },
  "cells": [
    {
      "cell_type": "markdown",
      "metadata": {
        "id": "view-in-github",
        "colab_type": "text"
      },
      "source": [
        "<a href=\"https://colab.research.google.com/github/AchmadSelamatFauzi/Ujik/blob/main/prakt8.ipynb\" target=\"_parent\"><img src=\"https://colab.research.google.com/assets/colab-badge.svg\" alt=\"Open In Colab\"/></a>"
      ]
    },
    {
      "cell_type": "code",
      "metadata": {
        "colab": {
          "base_uri": "https://localhost:8080/"
        },
        "id": "DWn-piVtWMbp",
        "outputId": "15a189fb-f790-4c11-b723-35f1bd384974"
      },
      "source": [
        "# Program python untuk menentukan bilangan prima atau tidak\n",
        "# Meminta input bilangan dari user\n",
        "num = int(input(\"Masukkan bilangan: \"))\n",
        "# bilangan prima harus lebih besar dari 1\n",
        "if num > 1:\n",
        "    for i in range(2,num):\n",
        "        if (num % i) == 0:\n",
        "            print(num, \"bukan bilangan prima\")\n",
        "            print(i, \"kali\", num//i, \"=\", num)\n",
        "            break\n",
        "    else:\n",
        "        print(num,\"adalah bilangan prima\")\n",
        "# bila bilangan kurang atau sama dengan satu\n",
        "else:\n",
        "    print(num, \"bukan bilangan prima\")"
      ],
      "execution_count": 11,
      "outputs": [
        {
          "output_type": "stream",
          "name": "stdout",
          "text": [
            "Masukkan bilangan: 137\n",
            "137 adalah bilangan prima\n"
          ]
        }
      ]
    }
  ]
}