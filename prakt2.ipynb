{
  "nbformat": 4,
  "nbformat_minor": 0,
  "metadata": {
    "colab": {
      "name": "Untitled1.ipynb",
      "provenance": [],
      "authorship_tag": "ABX9TyPB7YZVBaTvU9f7w9Rg5gpD",
      "include_colab_link": true
    },
    "kernelspec": {
      "name": "python3",
      "display_name": "Python 3"
    },
    "language_info": {
      "name": "python"
    }
  },
  "cells": [
    {
      "cell_type": "markdown",
      "metadata": {
        "id": "view-in-github",
        "colab_type": "text"
      },
      "source": [
        "<a href=\"https://colab.research.google.com/github/AchmadSelamatFauzi/Ujik/blob/main/prakt2.ipynb\" target=\"_parent\"><img src=\"https://colab.research.google.com/assets/colab-badge.svg\" alt=\"Open In Colab\"/></a>"
      ]
    },
    {
      "cell_type": "code",
      "metadata": {
        "colab": {
          "base_uri": "https://localhost:8080/"
        },
        "id": "uQjuhSoHr7-E",
        "outputId": "405e2d64-39ab-485d-dbdb-0000b147a5c5"
      },
      "source": [
        "print (\"PROGRAM PYTHON MENGHITUNG NILAI TERKECIL & TERBESAR SERTA NILAI RATA-RATA\")\n",
        "n = int(input(\"\\nMasukan Jumlah Bilangan = \"))\n",
        "bil = []\n",
        "tot = 0\n",
        "for x in range(n):\n",
        "    m=x+1\n",
        "    a = int(input(\"Bilangan ke %d = \"%m))\n",
        "    bil.append(a)\n",
        "    tot += bil[x]\n",
        "    rata2 = tot / n\n",
        "\n",
        "print(\"\\nBilangan Terkecil : %d\" %min(bil))\n",
        "print(\"Bilangan Terbesar : %d\" %max(bil))\n",
        "print(\"Nilai Rata-rata   : %0.2f\" %rata2)"
      ],
      "execution_count": 1,
      "outputs": [
        {
          "output_type": "stream",
          "name": "stdout",
          "text": [
            "PROGRAM PYTHON MENGHITUNG NILAI TERKECIL & TERBESAR SERTA NILAI RATA-RATA\n",
            "\n",
            "Masukan Jumlah Bilangan = 5\n",
            "Bilangan ke 1 = 18\n",
            "Bilangan ke 2 = 15\n",
            "Bilangan ke 3 = 58\n",
            "Bilangan ke 4 = 97\n",
            "Bilangan ke 5 = 67\n",
            "\n",
            "Bilangan Terkecil : 15\n",
            "Bilangan Terbesar : 97\n",
            "Nilai Rata-rata   : 51.00\n"
          ]
        }
      ]
    }
  ]
}