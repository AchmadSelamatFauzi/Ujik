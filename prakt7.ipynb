{
  "nbformat": 4,
  "nbformat_minor": 0,
  "metadata": {
    "colab": {
      "name": "Untitled2.ipynb",
      "provenance": [],
      "collapsed_sections": [],
      "authorship_tag": "ABX9TyNpNrOJKtRfLnlaMmkhVRzc",
      "include_colab_link": true
    },
    "kernelspec": {
      "name": "python3",
      "display_name": "Python 3"
    },
    "language_info": {
      "name": "python"
    }
  },
  "cells": [
    {
      "cell_type": "markdown",
      "metadata": {
        "id": "view-in-github",
        "colab_type": "text"
      },
      "source": [
        "<a href=\"https://colab.research.google.com/github/AchmadSelamatFauzi/Ujik/blob/main/prakt7.ipynb\" target=\"_parent\"><img src=\"https://colab.research.google.com/assets/colab-badge.svg\" alt=\"Open In Colab\"/></a>"
      ]
    },
    {
      "cell_type": "code",
      "metadata": {
        "colab": {
          "base_uri": "https://localhost:8080/"
        },
        "id": "DWn-piVtWMbp",
        "outputId": "783509cf-8ef5-4465-b1b7-2c833e1fd1bf"
      },
      "source": [
        "''' Program kalkulator sederhana untuk menjumlah, mengurang, mengali, dan membagi bilangan dengan menggunakan fungsi '''\n",
        "# fungsi penjumlahan\n",
        "def add(x, y):\n",
        "   return x + y\n",
        "# fungsi pengurangan\n",
        "def subtract(x, y):\n",
        "   return x - y\n",
        "# fungsi perkalian\n",
        "def multiply(x, y):\n",
        "   return x * y\n",
        "# fungsi pembagian\n",
        "def divide(x, y):\n",
        "   return x / y\n",
        "# menu operasi\n",
        "print(\"Pilih Operasi.\")\n",
        "print(\"1.Jumlah\")\n",
        "print(\"2.Kurang\")\n",
        "print(\"3.Kali\")\n",
        "print(\"4.Bagi\")\n",
        "# Meminta input dari user\n",
        "choice = input(\"Masukkan pilihan(1/2/3/4): \")\n",
        "num1 = int(input(\"Masukkan bilangan pertama: \"))\n",
        "num2 = int(input(\"Masukkan bilangan kedua: \"))\n",
        "if choice == '1':\n",
        "   print(num1,\"+\",num2,\"=\", add(num1,num2))\n",
        "elif choice == '2':\n",
        "   print(num1,\"-\",num2,\"=\", subtract(num1,num2))\n",
        "elif choice == '3':\n",
        "   print(num1,\"*\",num2,\"=\", multiply(num1,num2))\n",
        "elif choice == '4':\n",
        "   print(num1,\"/\",num2,\"=\", divide(num1,num2))\n",
        "else:\n",
        "   print(\"Input salah\")"
      ],
      "execution_count": 9,
      "outputs": [
        {
          "output_type": "stream",
          "name": "stdout",
          "text": [
            "Pilih Operasi.\n",
            "1.Jumlah\n",
            "2.Kurang\n",
            "3.Kali\n",
            "4.Bagi\n",
            "Masukkan pilihan(1/2/3/4): 3\n",
            "Masukkan bilangan pertama: 17\n",
            "Masukkan bilangan kedua: 9\n",
            "17 * 9 = 153\n"
          ]
        }
      ]
    }
  ]
}