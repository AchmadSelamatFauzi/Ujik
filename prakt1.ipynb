{
  "nbformat": 4,
  "nbformat_minor": 0,
  "metadata": {
    "colab": {
      "name": "Untitled0.ipynb",
      "provenance": [],
      "authorship_tag": "ABX9TyPHtuL+fJwQTx8gr92+QnRs",
      "include_colab_link": true
    },
    "kernelspec": {
      "name": "python3",
      "display_name": "Python 3"
    },
    "language_info": {
      "name": "python"
    }
  },
  "cells": [
    {
      "cell_type": "markdown",
      "metadata": {
        "id": "view-in-github",
        "colab_type": "text"
      },
      "source": [
        "<a href=\"https://colab.research.google.com/github/AchmadSelamatFauzi/Ujik/blob/main/prakt1.ipynb\" target=\"_parent\"><img src=\"https://colab.research.google.com/assets/colab-badge.svg\" alt=\"Open In Colab\"/></a>"
      ]
    },
    {
      "cell_type": "code",
      "metadata": {
        "id": "zg-NYI3VepRE"
      },
      "source": [
        ""
      ],
      "execution_count": null,
      "outputs": []
    },
    {
      "cell_type": "code",
      "metadata": {
        "colab": {
          "base_uri": "https://localhost:8080/"
        },
        "id": "ce5PvoFoenHe",
        "outputId": "58950b47-0eec-49a1-efa0-06ba9f248496"
      },
      "source": [
        "print(\"PROGRAM PYTHON MENENTUKAN NILAI INDEKS MAHASISWA\")\n",
        "tugas = float(input(\"\\nMasukkan nilai Tugas: \"))\n",
        "uts = float(input(\"Masukkan nilai UTS: \"))\n",
        "uas = float(input(\"Masukkan nilai UAS: \"))\n",
        "\n",
        "na =  (0.15 * uas) + (0.35 * uts) +  (0.50 * uas)\n",
        "if na >= 80:\n",
        "    indeks = 'A'\n",
        "elif na >= 70:\n",
        "    indeks = 'B'\n",
        "elif na >= 55:\n",
        "    indeks = 'C'\n",
        "elif na >= 40:\n",
        "    indeks = 'D'\n",
        "else:\n",
        "    indeks = 'E'\n",
        "\n",
        "print(\"\\nNilai Akhir  = %0.2f\" % na)\n",
        "print(\"Nilai Indeks = %c\" % indeks)"
      ],
      "execution_count": 1,
      "outputs": [
        {
          "output_type": "stream",
          "name": "stdout",
          "text": [
            "PROGRAM PYTHON MENENTUKAN NILAI INDEKS MAHASISWA\n",
            "\n",
            "Masukkan nilai Tugas: 90\n",
            "Masukkan nilai UTS: 80\n",
            "Masukkan nilai UAS: 90\n",
            "\n",
            "Nilai Akhir  = 86.50\n",
            "Nilai Indeks = A\n"
          ]
        }
      ]
    }
  ]
}